{
 "cells": [
  {
   "cell_type": "markdown",
   "id": "afc5d7b7",
   "metadata": {},
   "source": [
    "# Heuristic algorithm to minimize AoI \n",
    "## By Weiqi Wang, Jin Xu"
   ]
  },
  {
   "cell_type": "code",
   "execution_count": 9,
   "id": "1e1e7b97",
   "metadata": {},
   "outputs": [],
   "source": [
    "import numpy as np\n",
    "import networkx as nx \n",
    "import itertools\n",
    "import copy\n",
    "import pandas as pd\n",
    "import matplotlib.pyplot as plt\n",
    "\n",
    "import aoi_utils"
   ]
  },
  {
   "cell_type": "markdown",
   "id": "a2482ce3",
   "metadata": {},
   "source": [
    "## Define sample graphs using adjacency matrix"
   ]
  },
  {
   "cell_type": "code",
   "execution_count": 10,
   "id": "992fda70",
   "metadata": {},
   "outputs": [
    {
     "data": {
      "image/png": "[encoded data removed]",
      "text/plain": [
       "<Figure size 640x480 with 1 Axes>"
      ]
     },
     "metadata": {},
     "output_type": "display_data"
    }
   ],
   "source": [
    "\n",
    "#test the AoI of the route given by CPP \n",
    "\n",
    "graph4 = [[0,0,1,0],\n",
    "          [0,0,1,1],\n",
    "          [1,1,0,1],\n",
    "          [0,1,1,0]]\n",
    "\n",
    "\n",
    "graph5 = [[0,1,0,0,0],\n",
    "          [1,0,0,0,1],\n",
    "          [0,0,0,1,1],\n",
    "          [0,0,1,0,1],\n",
    "          [0,1,1,1,0]]\n",
    "\n",
    "\n",
    "\n",
    "# g = np.array([[0,1,1,1,1],\n",
    "#           [1,0,1,0,0],\n",
    "#           [1,1,0,0,0],\n",
    "#           [1,0,0,0,1],\n",
    "#           [1,0,0,1,0]])\n",
    "# g_array = np.array([[0,1,1,1,1,1],[1,0,1,0,0,0],[1,1,0,0,0,0],[1,0,0,0,0,0],[1,0,0,0,0,0],[1,0,0,0,0,0]])\n",
    "\n",
    "# n_edges = 30\n",
    "# g_array = np.zeros((n_edges,n_edges))\n",
    "# for i in range(n_edges):\n",
    "#     if i == 0:\n",
    "#         g_array[0,1:] = np.ones((1,n_edges-1))\n",
    "#     elif i == 1:\n",
    "#         g_array[i,0] = 1\n",
    "#         g_array[i,2] = 1\n",
    "#     elif i == 2:\n",
    "#         g_array[i,0] = 1\n",
    "#         g_array[i,1] = 1        \n",
    "#     else:\n",
    "#         g_array[i,0] = 1\n",
    "g_array =     np.array([[0, 4, 0, 0, 0, 0, 0, 8, 0], \n",
    "                        [4, 0, 8, 0, 0, 0, 0, 11, 0], \n",
    "                        [0, 8, 0, 7, 0, 4, 0, 0, 2], \n",
    "                        [0, 0, 7, 0, 9, 0, 14, 0, 0], \n",
    "                        [0, 0, 0, 9, 0, 10, 0, 0, 0], \n",
    "                        [0, 0, 4, 0, 10, 0, 2, 0, 0], \n",
    "                        [0, 0, 0, 14, 0, 2, 0, 1, 6], \n",
    "                        [8, 11, 0, 0, 0, 0, 1, 0, 7], \n",
    "                        [0, 0, 2, 0, 0, 0, 6, 7, 0] \n",
    "                    ]); \n",
    "\n",
    "# g =               np.array( [[0, 3, 1, 0, 5, 0], \n",
    "#                         [3, 0, 0, 1, 0, 6], \n",
    "#                         [1, 0, 0, 0, 2, 0], \n",
    "#                         [0, 1, 0, 0, 0, 1], \n",
    "#                         [5, 0, 2, 0, 0, 4], \n",
    "#                         [0, 6, 0, 1, 4, 0],     \n",
    "#                     ]); \n",
    "\n",
    "g = nx.from_numpy_array(g_array)\n",
    "g = nx.MultiGraph(g)\n",
    "nx.draw_networkx(g, with_labels=True) "
   ]
  },
  {
   "cell_type": "code",
   "execution_count": 3,
   "id": "a4629e32",
   "metadata": {},
   "outputs": [
    {
     "name": "stdout",
     "output_type": "stream",
     "text": [
      "93\n"
     ]
    }
   ],
   "source": [
    "print(aoi_utils.sum_edges(g))"
   ]
  },
  {
   "cell_type": "markdown",
   "id": "c7da6d7e",
   "metadata": {},
   "source": [
    "## Add edges to convert the original graph to Eulerian graph. Then use Fleury's algorithm and heuristic AoI algorithem to get a patrol route of the graph, and compare the AoI."
   ]
  },
  {
   "cell_type": "code",
   "execution_count": 4,
   "id": "b7005508",
   "metadata": {},
   "outputs": [
    {
     "name": "stdout",
     "output_type": "stream",
     "text": [
      "[(0, 1, 4), (0, 7, 8), (1, 2, 8), (1, 2, 8), (1, 7, 11), (2, 3, 7), (2, 3, 7), (2, 5, 4), (2, 5, 4), (2, 8, 2), (2, 8, 2), (3, 4, 9), (3, 6, 14), (4, 5, 10), (5, 6, 2), (6, 7, 1), (6, 8, 6), (7, 8, 7)]\n",
      "[0, 7, 8, 2, 8, 6, 5, 2, 5, 4, 3, 2, 3, 6, 7, 1, 2, 1, 0]\n",
      "CPP_AoI 5178.8421052631575\n",
      "[0, 7, 8, 2, 3, 6, 5, 2, 1, 7, 6, 8, 2, 3, 4, 5, 2, 1, 0]\n",
      "CPP_AoI 4702.921052631579\n"
     ]
    }
   ],
   "source": [
    "g_aug = aoi_utils.smallest_eularian_graph(g)\n",
    "source = 0\n",
    "naive_circuit = [u for u,v in nx.eulerian_circuit(g_aug, source)] + [source]\n",
    "heuristic_circuit = aoi_utils.heuristic_AoI_eulerian_circuit(g_aug, source)\n",
    "random_eulerian_circuit = aoi_utils.random_eulerian_circuit(g_aug, source)\n",
    "print(g_aug.edges.data('weight'))\n",
    "print(naive_circuit)\n",
    "print('CPP_AoI', aoi_utils.AoI_Compute(g_array,naive_circuit)) \n",
    "print(heuristic_circuit)\n",
    "print('Heu_AoI', aoi_utils.AoI_Compute(g_array,heuristic_circuit)) "
   ]
  },
  {
   "cell_type": "markdown",
   "id": "fa830f31",
   "metadata": {},
   "source": [
    "## Show all edges in the augmented graph"
   ]
  },
  {
   "cell_type": "code",
   "execution_count": 5,
   "id": "2f34db94",
   "metadata": {},
   "outputs": [
    {
     "name": "stdout",
     "output_type": "stream",
     "text": [
      "[(0, 1, 4), (0, 7, 8), (1, 2, 8), (1, 2, 8), (1, 7, 11), (2, 3, 7), (2, 3, 7), (2, 5, 4), (2, 5, 4), (2, 8, 2), (2, 8, 2), (3, 4, 9), (3, 6, 14), (4, 5, 10), (5, 6, 2), (6, 7, 1), (6, 8, 6), (7, 8, 7)]\n"
     ]
    }
   ],
   "source": [
    "print(g_aug.edges.data('weight'))"
   ]
  },
  {
   "cell_type": "markdown",
   "id": "93ea95c4",
   "metadata": {},
   "source": [
    "## Duplicated graph"
   ]
  },
  {
   "cell_type": "code",
   "execution_count": 6,
   "id": "4adc163f",
   "metadata": {},
   "outputs": [
    {
     "name": "stdout",
     "output_type": "stream",
     "text": [
      "route_length 186\n",
      "Dup_AoI 7219.37634408602\n"
     ]
    }
   ],
   "source": [
    "g_dup = aoi_utils.add_augmenting_path_to_graph(g, g.edges())\n",
    "print('route_length',aoi_utils.sum_edges(g_dup))\n",
    "route_dup = [u for u,v in nx.eulerian_circuit(g_dup, source)] + [source]\n",
    "print('Dup_AoI', aoi_utils.AoI_Compute(g_array,route_dup))"
   ]
  },
  {
   "cell_type": "markdown",
   "id": "73587ddf",
   "metadata": {},
   "source": [
    "## Test the algorithm using 100 random runs"
   ]
  },
  {
   "cell_type": "code",
   "execution_count": 7,
   "id": "3d07e546",
   "metadata": {},
   "outputs": [
    {
     "name": "stdout",
     "output_type": "stream",
     "text": [
      "4771.594999999999\n"
     ]
    }
   ],
   "source": [
    "s = 0\n",
    "for i in range(100):\n",
    "    heuristic_circuit = aoi_utils.heuristic_AoI_eulerian_circuit(g_aug, source)\n",
    "    s += aoi_utils.AoI_Compute(g_array,heuristic_circuit) \n",
    "print(s/100)"
   ]
  },
  {
   "cell_type": "code",
   "execution_count": 8,
   "id": "d6a262e1",
   "metadata": {},
   "outputs": [
    {
     "name": "stdout",
     "output_type": "stream",
     "text": [
      "4991.395555555557\n"
     ]
    }
   ],
   "source": [
    "s = 0\n",
    "for i in range(100):\n",
    "    heuristic_circuit = aoi_utils.random_eulerian_circuit(g_aug, source)\n",
    "    s += aoi_utils.AoI_Compute(g_array,heuristic_circuit) \n",
    "print(s/100)"
   ]
  },
  {
   "cell_type": "code",
   "execution_count": null,
   "id": "52f77cfa",
   "metadata": {},
   "outputs": [],
   "source": []
  }
 ],
 "metadata": {
  "kernelspec": {
   "display_name": "Python 3 (ipykernel)",
   "language": "python",
   "name": "python3"
  },
  "language_info": {
   "codemirror_mode": {
    "name": "ipython",
    "version": 3
   },
   "file_extension": ".py",
   "mimetype": "text/x-python",
   "name": "python",
   "nbconvert_exporter": "python",
   "pygments_lexer": "ipython3",
   "version": "3.11.5"
  }
 },
 "nbformat": 4,
 "nbformat_minor": 5
}
